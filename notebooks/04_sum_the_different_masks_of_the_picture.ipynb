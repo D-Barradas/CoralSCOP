{
 "cells": [
  {
   "cell_type": "code",
   "execution_count": null,
   "metadata": {},
   "outputs": [],
   "source": [
    "import ssl , sys\n",
    "ssl._create_default_https_context = ssl._create_unverified_context\n",
    "sys.path.append('./manipulation_library.py') # add the path of manipulation_library.py\n"
   ]
  },
  {
   "cell_type": "code",
   "execution_count": null,
   "metadata": {},
   "outputs": [],
   "source": [
    "from glob import glob"
   ]
  },
  {
   "cell_type": "code",
   "execution_count": null,
   "metadata": {},
   "outputs": [],
   "source": [
    "from manipulation_library import *\n"
   ]
  },
  {
   "cell_type": "code",
   "execution_count": null,
   "metadata": {},
   "outputs": [],
   "source": [
    "path_to_folder = \"/\".join(os.getcwd().split(\"/\")[:-1])\n",
    "\n",
    "input_coral_image = \"data/raw/Platygyra2.jpeg\"\n",
    "path_absolute_to_image = os.path.join(path_to_folder,input_coral_image)\n",
    "\n"
   ]
  },
  {
   "cell_type": "code",
   "execution_count": null,
   "metadata": {},
   "outputs": [],
   "source": [
    "print(path_absolute_to_image)"
   ]
  },
  {
   "cell_type": "code",
   "execution_count": null,
   "metadata": {},
   "outputs": [],
   "source": [
    "image = get_image(path_absolute_to_image)\n",
    "width_original = image.shape[1] \n",
    "height_original = image.shape[0] \n",
    "image = cv2.resize(image, (1800,1200), interpolation = cv2.INTER_AREA)\n",
    "# list_of_images, titles  = process_images(image = image, masks= masks)\n"
   ]
  },
  {
   "cell_type": "code",
   "execution_count": null,
   "metadata": {},
   "outputs": [],
   "source": [
    "experiment_grid(model_type=\"vit_b\", image=image)"
   ]
  },
  {
   "cell_type": "code",
   "execution_count": null,
   "metadata": {},
   "outputs": [],
   "source": [
    "# lets make a selection of the masks that are of interest for the user \n",
    "mask_of_interest = [0,1,4,5,6,7,9,10,11]"
   ]
  },
  {
   "cell_type": "code",
   "execution_count": null,
   "metadata": {},
   "outputs": [],
   "source": [
    "def multiple_mask_output(model_type, image):\n",
    "    mask_generator = load_sam_model(model_type=model_type)\n",
    "    masks = mask_generator.generate(image=image)\n",
    "    list_of_images , titles , image_dataframe = process_images_and_sort_by_coordinates(image = image, masks= masks)\n",
    "    return list_of_images, titles, image_dataframe"
   ]
  },
  {
   "cell_type": "code",
   "execution_count": null,
   "metadata": {},
   "outputs": [],
   "source": [
    "def concatenate_images(images, direction='horizontal'):\n",
    "    \"\"\"\n",
    "    Concatenates a list of images either horizontally or vertically.\n",
    "\n",
    "    Args:\n",
    "        images (list): List of images to concatenate.\n",
    "        direction (str): Direction to concatenate images ('horizontal' or 'vertical').\n",
    "\n",
    "    Returns:\n",
    "        concatenated_image: The concatenated image.\n",
    "    \"\"\"\n",
    "    if direction not in ['horizontal', 'vertical']:\n",
    "        raise ValueError(\"Direction must be 'horizontal' or 'vertical'\")\n",
    "\n",
    "    # Convert images to numpy arrays if they are not already\n",
    "    images = [np.array(img) for img in images]\n",
    "\n",
    "    if direction == 'horizontal':\n",
    "        concatenated_image = np.hstack(images)\n",
    "    else:\n",
    "        concatenated_image = np.vstack(images)\n",
    "\n",
    "    return concatenated_image"
   ]
  },
  {
   "cell_type": "code",
   "execution_count": null,
   "metadata": {},
   "outputs": [],
   "source": [
    "list_of_images, titles, image_dataframe = multiple_mask_output(model_type=\"vit_b\", image=image)\n",
    "    \n",
    "  "
   ]
  },
  {
   "cell_type": "code",
   "execution_count": null,
   "metadata": {},
   "outputs": [],
   "source": [
    "image_dataframe.iloc[mask_of_interest]"
   ]
  },
  {
   "cell_type": "code",
   "execution_count": null,
   "metadata": {},
   "outputs": [],
   "source": [
    "type(list_of_images)"
   ]
  },
  {
   "cell_type": "code",
   "execution_count": null,
   "metadata": {},
   "outputs": [],
   "source": [
    "selected_images = [ list_of_images[x] for x in mask_of_interest]"
   ]
  },
  {
   "cell_type": "code",
   "execution_count": null,
   "metadata": {},
   "outputs": [],
   "source": [
    "def add_padding_to_images(images, target_shape):\n",
    "    \"\"\"\n",
    "    Adds padding to a list of images to match the target shape.\n",
    "\n",
    "    Args:\n",
    "        images (list): List of numpy.ndarray images to pad.\n",
    "        target_shape (tuple): Target shape (height, width) to pad images to.\n",
    "\n",
    "    Returns:\n",
    "        padded_images: List of padded images.\n",
    "    \"\"\"\n",
    "    padded_images = []\n",
    "    target_height, target_width = target_shape\n",
    "\n",
    "    for img in images:\n",
    "        height, width, _ = img.shape\n",
    "        top_pad = (target_height - height) // 2\n",
    "        bottom_pad = target_height - height - top_pad\n",
    "        left_pad = (target_width - width) // 2\n",
    "        right_pad = target_width - width - left_pad\n",
    "\n",
    "        padded_img = cv2.copyMakeBorder(\n",
    "            img, top_pad, bottom_pad, left_pad, right_pad, cv2.BORDER_CONSTANT, value=[0, 0, 0]\n",
    "        )\n",
    "        padded_images.append(padded_img)\n",
    "\n",
    "    return padded_images\n",
    "\n",
    "def stack_images(images, direction='horizontal'):\n",
    "    \"\"\"\n",
    "    Stacks a list of numpy.ndarray images either horizontally or vertically.\n",
    "\n",
    "    Args:\n",
    "        images (list): List of numpy.ndarray images to stack.\n",
    "        direction (str): Direction to stack images ('horizontal' or 'vertical').\n",
    "\n",
    "    Returns:\n",
    "        stacked_image: The stacked image as a numpy.ndarray.\n",
    "    \"\"\"\n",
    "    if direction not in ['horizontal', 'vertical']:\n",
    "        raise ValueError(\"Direction must be 'horizontal' or 'vertical'\")\n",
    "\n",
    "    # Determine the target shape for padding\n",
    "    max_height = max(img.shape[0] for img in images)\n",
    "    max_width = max(img.shape[1] for img in images)\n",
    "    target_shape = (max_height, max_width)\n",
    "\n",
    "    # Add padding to images to match the target shape\n",
    "    padded_images = add_padding_to_images(images, target_shape)\n",
    "\n",
    "    if direction == 'horizontal':\n",
    "        stacked_image = np.hstack(padded_images)\n",
    "    else:\n",
    "        stacked_image = np.vstack(padded_images)\n",
    "\n",
    "    return stacked_image"
   ]
  },
  {
   "cell_type": "code",
   "execution_count": null,
   "metadata": {},
   "outputs": [],
   "source": [
    "stacked_image = stack_images(selected_images, direction=\"horizontal\")"
   ]
  },
  {
   "cell_type": "code",
   "execution_count": null,
   "metadata": {},
   "outputs": [],
   "source": [
    "plt.imshow(stacked_image)\n",
    "plt.axis('off')"
   ]
  },
  {
   "cell_type": "code",
   "execution_count": null,
   "metadata": {},
   "outputs": [],
   "source": [
    "def RGB2HEX(color):\n",
    "    return \"#{:02x}{:02x}{:02x}\".format(int(color[0]), int(color[1]), int(color[2]))\n",
    "\n",
    "def get_colors(image, number_of_colors, show_chart):\n",
    "    # Drop all black pixels from the image\n",
    "    non_black_pixels = image[np.any(image != [0, 0, 0], axis=-1)]\n",
    "    \n",
    "    modified_image = non_black_pixels.reshape(non_black_pixels.shape[0], 3)\n",
    "    \n",
    "    clf = KMeans(n_clusters=number_of_colors, n_init='auto', random_state=73)\n",
    "    labels = clf.fit_predict(modified_image)\n",
    "    \n",
    "    counts = Counter(labels)\n",
    "    # Sort to ensure correct color percentage\n",
    "    counts = dict(sorted(counts.items()))\n",
    "    \n",
    "    center_colors = clf.cluster_centers_\n",
    "\n",
    "    # We get ordered colors by iterating through the keys\n",
    "    ordered_colors = [center_colors[i] for i in counts.keys()]\n",
    "    hex_colors = [RGB2HEX(ordered_colors[i]) for i in counts.keys()]\n",
    "    rgb_colors = [ordered_colors[i] for i in counts.keys()]\n",
    "\n",
    "    if show_chart:\n",
    "        plt.figure(figsize=(8, 6))\n",
    "        plt.pie(counts.values(), labels=rgb_colors, colors=hex_colors)\n",
    "    \n",
    "    return rgb_colors\n",
    "\n",
    "# # Create a copy of the image without black pixels\n",
    "# image_without_black = image[np.any(image != [0, 0, 0], axis=-1)].reshape(-1, 3)\n",
    "\n",
    "def drop_black_from_top_colors(top_colors_list):\n",
    "    min_values = []\n",
    "    for i in range(len(top_colors_list)):\n",
    "        curr_color = rgb2lab(np.uint8(np.asarray([[top_colors_list[i]]])))\n",
    "        diff = deltaE_cie76((0, 0, 0), curr_color)\n",
    "        # print (diff, type(diff))\n",
    "        min_values.append(diff[0][0])\n",
    "        lowest_value_index = np.argmin(min_values) \n",
    "    top_colors_list.pop(lowest_value_index)\n",
    "    return top_colors_list\n",
    "\n",
    "\n",
    "def match_image_by_color(image, color, threshold = 60, number_of_colors = 10): \n",
    "    \n",
    "    image_colors = get_colors(image, number_of_colors, False)\n",
    "    # discard black\n",
    "    image_colors = drop_black_from_top_colors(image_colors)\n",
    "    selected_color = rgb2lab(np.uint8(np.asarray([[color]])))\n",
    "\n",
    "    diff_list =[]\n",
    "    for i in range(len(image_colors)):\n",
    "        curr_color = rgb2lab(np.uint8(np.asarray([[image_colors[i]]])))\n",
    "        diff = deltaE_cie76(selected_color, curr_color)\n",
    "        # print(diff[0][0])\n",
    "        diff_list.append(diff[0][0])\n",
    "    diff_avg = np.mean(diff_list)\n",
    "    if diff_avg < threshold:\n",
    "        return diff_avg\n",
    "    else:\n",
    "        # a euclidian difference of 1000 should be noticible \n",
    "        return 1000\n",
    "    \n",
    "def calculate_distances_to_colors(image):\n",
    "    # color chart but in RGB \n",
    "    color_map_RGB = {\n",
    "    'B1': (247, 248, 232),\n",
    "    'B2': (243, 244, 192),\n",
    "    'B3': (234, 235, 137),\n",
    "    'B4': (200, 206, 57),\n",
    "    'B5': (148, 157, 56),\n",
    "    'B6': (92, 116, 52),\n",
    "    'C1': (247, 235, 232),\n",
    "    'C2': (246, 201, 192),\n",
    "    'C3': (240, 156, 136),\n",
    "    'C4': (207, 90, 58),\n",
    "    'C5': (155, 50, 32),\n",
    "    'C6': (101, 27, 13),\n",
    "    'D1': (246, 235, 224),\n",
    "    'D2': (246, 219, 191),\n",
    "    'D3': (239, 188, 135),\n",
    "    'D4': (211, 147, 78),\n",
    "    'D5': (151, 89, 36),\n",
    "    'D6': (106, 58, 22),\n",
    "    'E1': (247, 242, 227),\n",
    "    'E2': (246, 232, 191),\n",
    "    'E3': (240, 213, 136),\n",
    "    'E4': (209, 174, 68),\n",
    "    'E5': (155, 124, 45),\n",
    "    'E6': (111, 85, 34)\n",
    "    }\n",
    "    \n",
    "    # get the distance \n",
    "    final_distances = {}\n",
    "    for key in color_map_RGB.keys():\n",
    "        max_val = match_image_by_color( image=image, color=color_map_RGB[key], number_of_colors=6)\n",
    "        if max_val != 0 :\n",
    "            final_distances[key]=max_val\n",
    "    df_final = pd.DataFrame.from_dict(final_distances,orient='index',columns=[\"Distance\"])\n",
    "    df_final.sort_values(by=\"Distance\",ascending=True,inplace=True)\n",
    "    color_keys_selected= df_final.head(n=3).index.to_list()\n",
    "    color_selected_distance = df_final[\"Distance\"].head(n=3).to_list()\n",
    "    lower_y_limit = color_selected_distance[0] - 0.5\n",
    "    higher_y_limit = color_selected_distance[-1] + 0.5\n",
    "    hex_colors_map = [RGB2HEX(color_map_RGB[key]) for key in color_keys_selected]\n",
    "    return color_keys_selected, color_selected_distance, lower_y_limit, higher_y_limit,hex_colors_map\n",
    "\n",
    "def plot_compare(img1_rgb,color_keys_selected, color_selected_distance, lower_y_limit, higher_y_limit,hex_colors_map):\n",
    "    # Create a figure and subplots\n",
    "    fig, (ax1, ax2) = plt.subplots(nrows=1,ncols=2,figsize=(20, 10))  # Adjust figsize as needed\n",
    "\n",
    "    # Display the images\n",
    "    ax1.imshow(img1_rgb)\n",
    "    ax1.set_title(\"Image 1\")\n",
    "    ax1.axis('off') \n",
    "\n",
    "    ax2.bar(color_keys_selected,color_selected_distance ,color = hex_colors_map)\n",
    "    ax2.set_title(\"Image 2\")\n",
    "\n",
    "    ax2.set_ylabel(\"Euclidian distance from \\n top 5 colors detected\")\n",
    "    ax2.set_xlabel(\"Color code in chart\")\n",
    "    \n",
    "    plt.xlabel(\"Color code in chart\")\n",
    "    plt.ylim(lower_y_limit,higher_y_limit)\n",
    "\n",
    "    # Adjust spacing between subplots\n",
    "    plt.tight_layout()\n",
    "\n",
    "    # Show the plot\n",
    "    plt.show()"
   ]
  },
  {
   "cell_type": "code",
   "execution_count": null,
   "metadata": {},
   "outputs": [],
   "source": [
    "get_colors(stacked_image, 10, True)"
   ]
  },
  {
   "cell_type": "code",
   "execution_count": null,
   "metadata": {},
   "outputs": [],
   "source": [
    "color_keys_selected, color_selected_distance, lower_y_limit, higher_y_limit,hex_colors_map = calculate_distances_to_colors(stacked_image)"
   ]
  },
  {
   "cell_type": "code",
   "execution_count": null,
   "metadata": {},
   "outputs": [],
   "source": [
    "plot_compare(stacked_image,color_keys_selected, color_selected_distance, lower_y_limit, higher_y_limit,hex_colors_map)"
   ]
  },
  {
   "cell_type": "code",
   "execution_count": null,
   "metadata": {},
   "outputs": [],
   "source": []
  }
 ],
 "metadata": {
  "kernelspec": {
   "display_name": "Python 3",
   "language": "python",
   "name": "python3"
  },
  "language_info": {
   "codemirror_mode": {
    "name": "ipython",
    "version": 3
   },
   "file_extension": ".py",
   "mimetype": "text/x-python",
   "name": "python",
   "nbconvert_exporter": "python",
   "pygments_lexer": "ipython3",
   "version": "3.12.3"
  }
 },
 "nbformat": 4,
 "nbformat_minor": 2
}
